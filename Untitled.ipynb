{
 "cells": [
  {
   "cell_type": "code",
   "execution_count": 60,
   "metadata": {},
   "outputs": [
    {
     "ename": "ModuleNotFoundError",
     "evalue": "No module named 'keras'",
     "output_type": "error",
     "traceback": [
      "\u001b[0;31m---------------------------------------------------------------------------\u001b[0m",
      "\u001b[0;31mModuleNotFoundError\u001b[0m                       Traceback (most recent call last)",
      "\u001b[0;32m<ipython-input-60-d85fc2f6d89c>\u001b[0m in \u001b[0;36m<module>\u001b[0;34m\u001b[0m\n\u001b[1;32m      2\u001b[0m \u001b[0;32mimport\u001b[0m \u001b[0mnumpy\u001b[0m \u001b[0;32mas\u001b[0m \u001b[0mnp\u001b[0m\u001b[0;34m\u001b[0m\u001b[0;34m\u001b[0m\u001b[0m\n\u001b[1;32m      3\u001b[0m \u001b[0;32mimport\u001b[0m \u001b[0mglob\u001b[0m\u001b[0;34m\u001b[0m\u001b[0;34m\u001b[0m\u001b[0m\n\u001b[0;32m----> 4\u001b[0;31m \u001b[0;32mimport\u001b[0m \u001b[0mkeras\u001b[0m\u001b[0;34m\u001b[0m\u001b[0;34m\u001b[0m\u001b[0m\n\u001b[0m\u001b[1;32m      5\u001b[0m \u001b[0;32mfrom\u001b[0m \u001b[0mtensorflow\u001b[0m\u001b[0;34m.\u001b[0m\u001b[0mkeras\u001b[0m \u001b[0;32mimport\u001b[0m \u001b[0mmodels\u001b[0m\u001b[0;34m,\u001b[0m\u001b[0mlayers\u001b[0m\u001b[0;34m,\u001b[0m \u001b[0mactivations\u001b[0m\u001b[0;34m,\u001b[0m \u001b[0mlosses\u001b[0m\u001b[0;34m,\u001b[0m \u001b[0moptimizers\u001b[0m\u001b[0;34m\u001b[0m\u001b[0;34m\u001b[0m\u001b[0m\n\u001b[1;32m      6\u001b[0m \u001b[0;32mimport\u001b[0m \u001b[0mtensorflow\u001b[0m\u001b[0;34m.\u001b[0m\u001b[0mkeras\u001b[0m\u001b[0;34m.\u001b[0m\u001b[0mbackend\u001b[0m \u001b[0;32mas\u001b[0m \u001b[0mK\u001b[0m\u001b[0;34m\u001b[0m\u001b[0;34m\u001b[0m\u001b[0m\n",
      "\u001b[0;31mModuleNotFoundError\u001b[0m: No module named 'keras'"
     ]
    }
   ],
   "source": [
    "import cv2\n",
    "import numpy as np\n",
    "import glob\n",
    "from tensorflow.keras import models,layers, activations, losses, optimizers\n",
    "import tensorflow.keras.backend as K\n",
    "import tensorflow as tf"
   ]
  },
  {
   "cell_type": "code",
   "execution_count": 62,
   "metadata": {},
   "outputs": [],
   "source": [
    "DIMEN = 128\n",
    "\n",
    "input_shape = ( (DIMEN**2) * 3 , )\n",
    "convolution_shape = ( DIMEN , DIMEN , 3 )\n",
    "kernel_size_1 = ( 4 , 4 )\n",
    "kernel_size_2 = ( 3 , 3 )\n",
    "pool_size_1 = ( 3 , 3 )\n",
    "pool_size_2 = ( 2 , 2 )\n",
    "strides = 1\n",
    "\n",
    "model = models.Sequential()\n",
    "\n",
    "model.add(layers.Reshape( input_shape=input_shape , target_shape=convolution_shape))\n",
    "model.add(layers.Conv2D( 32, kernel_size=kernel_size_1 , strides=strides , activation=layers.LeakyReLU()))\n",
    "model.add(layers.Conv2D( 32, kernel_size=kernel_size_1, strides=strides, activation=layers.LeakyReLU()))\n",
    "model.add(layers.MaxPooling2D(pool_size=pool_size_1, strides=strides ))\n",
    "\n",
    "model.add(layers.Conv2D( 64, kernel_size=kernel_size_2 , strides=strides , activation=layers.LeakyReLU()))\n",
    "model.add(layers.Conv2D( 64, kernel_size=kernel_size_2 , strides=strides , activation=layers.LeakyReLU()))\n",
    "model.add(layers.MaxPooling2D(pool_size=pool_size_2 , strides=strides))\n",
    "\n",
    "model.add(layers.Flatten())\n",
    "\n",
    "model.add(layers.Dense( 64 , activation=activations.sigmoid ))\n"
   ]
  },
  {
   "cell_type": "code",
   "execution_count": 64,
   "metadata": {},
   "outputs": [],
   "source": [
    "input_x1 = layers.Input( shape=input_shape )\n",
    "input_x2 = layers.Input( shape=input_shape )"
   ]
  },
  {
   "cell_type": "code",
   "execution_count": 66,
   "metadata": {},
   "outputs": [
    {
     "name": "stdout",
     "output_type": "stream",
     "text": [
      "Model: \"sequential_15\"\n",
      "_________________________________________________________________\n",
      "Layer (type)                 Output Shape              Param #   \n",
      "=================================================================\n",
      "reshape_29 (Reshape)         (None, 128, 128, 3)       0         \n",
      "_________________________________________________________________\n",
      "conv2d_39 (Conv2D)           (None, 125, 125, 32)      1568      \n",
      "_________________________________________________________________\n",
      "conv2d_40 (Conv2D)           (None, 122, 122, 32)      16416     \n",
      "_________________________________________________________________\n",
      "max_pooling2d_15 (MaxPooling (None, 120, 120, 32)      0         \n",
      "_________________________________________________________________\n",
      "conv2d_41 (Conv2D)           (None, 118, 118, 64)      18496     \n",
      "_________________________________________________________________\n",
      "conv2d_42 (Conv2D)           (None, 116, 116, 64)      36928     \n",
      "_________________________________________________________________\n",
      "max_pooling2d_16 (MaxPooling (None, 115, 115, 64)      0         \n",
      "_________________________________________________________________\n",
      "flatten_6 (Flatten)          (None, 846400)            0         \n",
      "_________________________________________________________________\n",
      "dense_5 (Dense)              (None, 64)                54169664  \n",
      "=================================================================\n",
      "Total params: 54,243,072\n",
      "Trainable params: 54,243,072\n",
      "Non-trainable params: 0\n",
      "_________________________________________________________________\n"
     ]
    }
   ],
   "source": [
    "model.summary()"
   ]
  },
  {
   "cell_type": "code",
   "execution_count": 68,
   "metadata": {},
   "outputs": [],
   "source": [
    "output_x1 = model( input_x1 )\n",
    "output_x2 = model( input_x2 )"
   ]
  },
  {
   "cell_type": "code",
   "execution_count": null,
   "metadata": {},
   "outputs": [],
   "source": [
    "distance= Lambda( lambda tensors : K.abs( tensors[0] - tensors[1] ))( [output_x1 , output_x2])"
   ]
  }
 ],
 "metadata": {
  "kernelspec": {
   "display_name": "Python 3",
   "language": "python",
   "name": "python3"
  },
  "language_info": {
   "codemirror_mode": {
    "name": "ipython",
    "version": 3
   },
   "file_extension": ".py",
   "mimetype": "text/x-python",
   "name": "python",
   "nbconvert_exporter": "python",
   "pygments_lexer": "ipython3",
   "version": "3.7.3"
  }
 },
 "nbformat": 4,
 "nbformat_minor": 2
}
